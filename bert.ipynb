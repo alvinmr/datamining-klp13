{
 "cells": [
  {
   "cell_type": "code",
   "execution_count": null,
   "metadata": {},
   "outputs": [],
   "source": [
    "from transformers import BertTokenizer, BertForSequenceClassification\n",
    "import torch"
   ]
  },
  {
   "cell_type": "code",
   "execution_count": null,
   "metadata": {},
   "outputs": [],
   "source": [
    "basic_bert = 'bert-base-uncased'  # Nama pre-trained BERT model yang ingin Anda gunakan\n",
    "tokenizer = BertTokenizer.from_pretrained(basic_bert)\n",
    "model = BertForSequenceClassification.from_pretrained(basic_bert)"
   ]
  }
 ],
 "metadata": {
  "language_info": {
   "name": "python"
  },
  "orig_nbformat": 4
 },
 "nbformat": 4,
 "nbformat_minor": 2
}
