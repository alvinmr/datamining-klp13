{
 "cells": [
  {
   "cell_type": "code",
   "execution_count": 16,
   "metadata": {},
   "outputs": [],
   "source": [
    "#Import Library\n",
    "import pandas as pd\n"
   ]
  },
  {
   "cell_type": "code",
   "execution_count": 17,
   "metadata": {},
   "outputs": [],
   "source": [
    "#Import Data\n",
    "df = pd.read_csv('E:/UDAYANA TI SMT 6/1. DATA MINING (A)/PROJEK DATA MINING/datamining-klp13/twt_emotion_analysis/data_cleaned.csv')"
   ]
  },
  {
   "cell_type": "code",
   "execution_count": 18,
   "metadata": {},
   "outputs": [
    {
     "name": "stdout",
     "output_type": "stream",
     "text": [
      "      Sl no                                             Tweets     Search key   \n",
      "0         1   #1: @fe ed \"RT @MirayaDizon1: Time is ticking...  happy moments  \\\n",
      "1         3   #3: @Ris ♡ ed \"Happy birthday to one smokin h...  happy moments   \n",
      "2         4   #4: @월월 [씍쯴사랑로봇] jwinnie is the best, cheer u...  happy moments   \n",
      "3         5   #5: @Madhurima wth u vc♥ ed \"Good morning dea...  happy moments   \n",
      "4         7   #7: @Eric Rogers ed \"@CaitlinUnruh The movie ...  happy moments   \n",
      "...     ...                                                ...            ...   \n",
      "7851  10015  Tweet #84: @𝐚𝐧𝐢 [🛫] tweeted \"you're not irrita...     irritating   \n",
      "7852  10016  Tweet #85: @Matteo tweeted \"@GameSpot @Frannkc...     irritating   \n",
      "7853  10017  Tweet #86: @𝐚𝐧𝐢𝐬𝐭𝐨𝐧 tweeted \"@BRATgiirl_ that’...     irritating   \n",
      "7854  10018  Tweet #87: @Chowkidar Ricky Sharma tweeted \"@M...     irritating   \n",
      "7855  10019  Tweet #88: @Katoe.EXE tweeted \"u know what i h...     irritating   \n",
      "\n",
      "     Feeling                                    Processed_tweet  \n",
      "0      happy  time ticking fast relive past happy moment joy...  \n",
      "1      happy  happy birthday one smokin hot mama love much l...  \n",
      "2      happy  jwinnie best cheer jwinnie omg left min msg aj...  \n",
      "3      happy  wth u vc good morning dear wishing day fill su...  \n",
      "4      happy  rogers movie made happy several way think rely...  \n",
      "...      ...                                                ...  \n",
      "7851   angry          tweet irritating booooooooo love omg love  \n",
      "7852   angry  tweet controversy caus yes know expect kind co...  \n",
      "7853   angry           tweet irritating wish people car kid wtf  \n",
      "7854   angry  ricky sharma tweet g aapne besharmi ki saari h...  \n",
      "7855   angry  exe tweet u know hate indie alternative whatev...  \n",
      "\n",
      "[7856 rows x 5 columns]\n"
     ]
    }
   ],
   "source": [
    "print(df)"
   ]
  },
  {
   "cell_type": "code",
   "execution_count": 19,
   "metadata": {},
   "outputs": [
    {
     "data": {
      "text/plain": [
       "Sl no              0\n",
       "Tweets             0\n",
       "Search key         0\n",
       "Feeling            0\n",
       "Processed_tweet    0\n",
       "dtype: int64"
      ]
     },
     "execution_count": 19,
     "metadata": {},
     "output_type": "execute_result"
    }
   ],
   "source": [
    "df.isnull().sum()"
   ]
  },
  {
   "cell_type": "code",
   "execution_count": 20,
   "metadata": {},
   "outputs": [
    {
     "name": "stdout",
     "output_type": "stream",
     "text": [
      "0       time ticking fast relive past happy moment joy...\n",
      "1       happy birthday one smokin hot mama love much l...\n",
      "2       jwinnie best cheer jwinnie omg left min msg aj...\n",
      "3       wth u vc good morning dear wishing day fill su...\n",
      "4       rogers movie made happy several way think rely...\n",
      "                              ...                        \n",
      "7851            tweet irritating booooooooo love omg love\n",
      "7852    tweet controversy caus yes know expect kind co...\n",
      "7853             tweet irritating wish people car kid wtf\n",
      "7854    ricky sharma tweet g aapne besharmi ki saari h...\n",
      "7855    exe tweet u know hate indie alternative whatev...\n",
      "Name: Processed_tweet, Length: 7856, dtype: object\n"
     ]
    }
   ],
   "source": [
    "tweet = df['Processed_tweet']\n",
    "print(tweet)"
   ]
  },
  {
   "cell_type": "code",
   "execution_count": 21,
   "metadata": {},
   "outputs": [],
   "source": [
    "from sklearn.model_selection import train_test_split\n",
    "X_train, X_test, y_train, y_test = train_test_split(df['Processed_tweet'], df['Feeling'], test_size=0.2, random_state=42)"
   ]
  },
  {
   "cell_type": "code",
   "execution_count": 22,
   "metadata": {},
   "outputs": [],
   "source": [
    "from sklearn.feature_extraction.text import TfidfVectorizer\n",
    "vectorizer = TfidfVectorizer()\n",
    "X_train_tfidf = vectorizer.fit_transform(X_train)"
   ]
  },
  {
   "cell_type": "code",
   "execution_count": 23,
   "metadata": {},
   "outputs": [
    {
     "data": {
      "text/html": [
       "<style>#sk-container-id-2 {color: black;background-color: white;}#sk-container-id-2 pre{padding: 0;}#sk-container-id-2 div.sk-toggleable {background-color: white;}#sk-container-id-2 label.sk-toggleable__label {cursor: pointer;display: block;width: 100%;margin-bottom: 0;padding: 0.3em;box-sizing: border-box;text-align: center;}#sk-container-id-2 label.sk-toggleable__label-arrow:before {content: \"▸\";float: left;margin-right: 0.25em;color: #696969;}#sk-container-id-2 label.sk-toggleable__label-arrow:hover:before {color: black;}#sk-container-id-2 div.sk-estimator:hover label.sk-toggleable__label-arrow:before {color: black;}#sk-container-id-2 div.sk-toggleable__content {max-height: 0;max-width: 0;overflow: hidden;text-align: left;background-color: #f0f8ff;}#sk-container-id-2 div.sk-toggleable__content pre {margin: 0.2em;color: black;border-radius: 0.25em;background-color: #f0f8ff;}#sk-container-id-2 input.sk-toggleable__control:checked~div.sk-toggleable__content {max-height: 200px;max-width: 100%;overflow: auto;}#sk-container-id-2 input.sk-toggleable__control:checked~label.sk-toggleable__label-arrow:before {content: \"▾\";}#sk-container-id-2 div.sk-estimator input.sk-toggleable__control:checked~label.sk-toggleable__label {background-color: #d4ebff;}#sk-container-id-2 div.sk-label input.sk-toggleable__control:checked~label.sk-toggleable__label {background-color: #d4ebff;}#sk-container-id-2 input.sk-hidden--visually {border: 0;clip: rect(1px 1px 1px 1px);clip: rect(1px, 1px, 1px, 1px);height: 1px;margin: -1px;overflow: hidden;padding: 0;position: absolute;width: 1px;}#sk-container-id-2 div.sk-estimator {font-family: monospace;background-color: #f0f8ff;border: 1px dotted black;border-radius: 0.25em;box-sizing: border-box;margin-bottom: 0.5em;}#sk-container-id-2 div.sk-estimator:hover {background-color: #d4ebff;}#sk-container-id-2 div.sk-parallel-item::after {content: \"\";width: 100%;border-bottom: 1px solid gray;flex-grow: 1;}#sk-container-id-2 div.sk-label:hover label.sk-toggleable__label {background-color: #d4ebff;}#sk-container-id-2 div.sk-serial::before {content: \"\";position: absolute;border-left: 1px solid gray;box-sizing: border-box;top: 0;bottom: 0;left: 50%;z-index: 0;}#sk-container-id-2 div.sk-serial {display: flex;flex-direction: column;align-items: center;background-color: white;padding-right: 0.2em;padding-left: 0.2em;position: relative;}#sk-container-id-2 div.sk-item {position: relative;z-index: 1;}#sk-container-id-2 div.sk-parallel {display: flex;align-items: stretch;justify-content: center;background-color: white;position: relative;}#sk-container-id-2 div.sk-item::before, #sk-container-id-2 div.sk-parallel-item::before {content: \"\";position: absolute;border-left: 1px solid gray;box-sizing: border-box;top: 0;bottom: 0;left: 50%;z-index: -1;}#sk-container-id-2 div.sk-parallel-item {display: flex;flex-direction: column;z-index: 1;position: relative;background-color: white;}#sk-container-id-2 div.sk-parallel-item:first-child::after {align-self: flex-end;width: 50%;}#sk-container-id-2 div.sk-parallel-item:last-child::after {align-self: flex-start;width: 50%;}#sk-container-id-2 div.sk-parallel-item:only-child::after {width: 0;}#sk-container-id-2 div.sk-dashed-wrapped {border: 1px dashed gray;margin: 0 0.4em 0.5em 0.4em;box-sizing: border-box;padding-bottom: 0.4em;background-color: white;}#sk-container-id-2 div.sk-label label {font-family: monospace;font-weight: bold;display: inline-block;line-height: 1.2em;}#sk-container-id-2 div.sk-label-container {text-align: center;}#sk-container-id-2 div.sk-container {/* jupyter's `normalize.less` sets `[hidden] { display: none; }` but bootstrap.min.css set `[hidden] { display: none !important; }` so we also need the `!important` here to be able to override the default hidden behavior on the sphinx rendered scikit-learn.org. See: https://github.com/scikit-learn/scikit-learn/issues/21755 */display: inline-block !important;position: relative;}#sk-container-id-2 div.sk-text-repr-fallback {display: none;}</style><div id=\"sk-container-id-2\" class=\"sk-top-container\"><div class=\"sk-text-repr-fallback\"><pre>KNeighborsClassifier()</pre><b>In a Jupyter environment, please rerun this cell to show the HTML representation or trust the notebook. <br />On GitHub, the HTML representation is unable to render, please try loading this page with nbviewer.org.</b></div><div class=\"sk-container\" hidden><div class=\"sk-item\"><div class=\"sk-estimator sk-toggleable\"><input class=\"sk-toggleable__control sk-hidden--visually\" id=\"sk-estimator-id-2\" type=\"checkbox\" checked><label for=\"sk-estimator-id-2\" class=\"sk-toggleable__label sk-toggleable__label-arrow\">KNeighborsClassifier</label><div class=\"sk-toggleable__content\"><pre>KNeighborsClassifier()</pre></div></div></div></div></div>"
      ],
      "text/plain": [
       "KNeighborsClassifier()"
      ]
     },
     "execution_count": 23,
     "metadata": {},
     "output_type": "execute_result"
    }
   ],
   "source": [
    "from sklearn.tree import DecisionTreeClassifier\n",
    "from sklearn.neighbors import KNeighborsClassifier\n",
    "from sklearn.naive_bayes import MultinomialNB\n",
    "classifier = DecisionTreeClassifier()\n",
    "classifier.fit(X_train_tfidf, y_train)\n",
    "\n",
    "naive_bayes = MultinomialNB()\n",
    "naive_bayes.fit(X_train_tfidf, y_train)\n",
    "\n",
    "knn = KNeighborsClassifier()\n",
    "knn.fit(X_train_tfidf, y_train)"
   ]
  },
  {
   "cell_type": "code",
   "execution_count": 24,
   "metadata": {},
   "outputs": [],
   "source": [
    "X_test_tfidf = vectorizer.transform(X_test)"
   ]
  },
  {
   "cell_type": "code",
   "execution_count": 25,
   "metadata": {},
   "outputs": [],
   "source": [
    "y_pred_dt = classifier.predict(X_test_tfidf)\n",
    "y_pred_nb = naive_bayes.predict(X_test_tfidf)\n",
    "y_pred_knn = knn.predict(X_test_tfidf)"
   ]
  },
  {
   "cell_type": "code",
   "execution_count": 26,
   "metadata": {},
   "outputs": [
    {
     "name": "stdout",
     "output_type": "stream",
     "text": [
      "akurasi dt:\n",
      "               precision    recall  f1-score   support\n",
      "\n",
      "       angry       0.87      0.89      0.88       210\n",
      "     disgust       0.85      0.89      0.87        88\n",
      "        fear       0.84      0.82      0.83       135\n",
      "       happy       0.87      0.87      0.87       624\n",
      "         sad       0.92      0.90      0.91       467\n",
      "    surprise       0.87      0.81      0.84        48\n",
      "\n",
      "    accuracy                           0.88      1572\n",
      "   macro avg       0.87      0.86      0.87      1572\n",
      "weighted avg       0.88      0.88      0.88      1572\n",
      "\n",
      "\n",
      "\n",
      "akurasi nb:\n",
      "               precision    recall  f1-score   support\n",
      "\n",
      "       angry       0.96      0.25      0.39       210\n",
      "     disgust       1.00      0.18      0.31        88\n",
      "        fear       1.00      0.19      0.32       135\n",
      "       happy       0.62      0.98      0.76       624\n",
      "         sad       0.77      0.79      0.78       467\n",
      "    surprise       1.00      0.21      0.34        48\n",
      "\n",
      "    accuracy                           0.69      1572\n",
      "   macro avg       0.89      0.43      0.48      1572\n",
      "weighted avg       0.78      0.69      0.64      1572\n",
      "\n",
      "\n",
      "\n",
      "akurasi knn:\n",
      "               precision    recall  f1-score   support\n",
      "\n",
      "       angry       0.58      0.60      0.59       210\n",
      "     disgust       0.65      0.56      0.60        88\n",
      "        fear       0.58      0.45      0.51       135\n",
      "       happy       0.66      0.76      0.71       624\n",
      "         sad       0.68      0.61      0.64       467\n",
      "    surprise       0.74      0.42      0.53        48\n",
      "\n",
      "    accuracy                           0.65      1572\n",
      "   macro avg       0.65      0.57      0.60      1572\n",
      "weighted avg       0.65      0.65      0.64      1572\n",
      "\n"
     ]
    }
   ],
   "source": [
    "from sklearn.metrics import classification_report\n",
    "akurasi_dt = classification_report(y_test, y_pred_dt)\n",
    "akurasi_nb = classification_report(y_test, y_pred_nb)\n",
    "akurasi_knn = classification_report(y_test, y_pred_knn)\n",
    "print('akurasi dt:\\n', akurasi_dt)\n",
    "print('\\n')\n",
    "print('akurasi nb:\\n', akurasi_nb)\n",
    "print('\\n')\n",
    "print('akurasi knn:\\n', akurasi_knn)"
   ]
  }
 ],
 "metadata": {
  "kernelspec": {
   "display_name": "Python 3",
   "language": "python",
   "name": "python3"
  },
  "language_info": {
   "codemirror_mode": {
    "name": "ipython",
    "version": 3
   },
   "file_extension": ".py",
   "mimetype": "text/x-python",
   "name": "python",
   "nbconvert_exporter": "python",
   "pygments_lexer": "ipython3",
   "version": "3.9.1"
  },
  "orig_nbformat": 4
 },
 "nbformat": 4,
 "nbformat_minor": 2
}
