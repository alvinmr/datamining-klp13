{
 "cells": [
  {
   "cell_type": "code",
   "execution_count": 1,
   "metadata": {},
   "outputs": [],
   "source": [
    "import pandas as pd\n",
    "import numpy as np\n",
    "import re\n",
    "import nltk\n",
    "from nltk.tokenize import word_tokenize\n",
    "from nltk.corpus import stopwords\n",
    "from nltk.stem import WordNetLemmatizer\n",
    "import string\n",
    "from tqdm.notebook import tqdm, trange\n",
    "import time    # to be used in loop iterations\n",
    "\n",
    "\n",
    "\n",
    "# nltk.download('punkt')\n",
    "# nltk.download('stopwords')\n",
    "# nltk.download('wordnet')\n",
    "\n",
    "# Read in the data\n",
    "df = pd.read_csv('./twt_emotion_analysis/data.csv')"
   ]
  },
  {
   "cell_type": "code",
   "execution_count": 6,
   "metadata": {},
   "outputs": [],
   "source": [
    "# Define the preprocessing function\n",
    "def preprocess_tweet(tweet):\n",
    "    # detect language\n",
    "    # tweet = GoogleTranslator(source='auto', target='en').translate(tweet)\n",
    "    \n",
    "    # Remove Tweet number and RT\n",
    "    tweet = re.sub(r'Tweet #\\d+:', '', tweet)\n",
    "    tweet = re.sub(r'RT', '', tweet)\n",
    "    tweet = re.sub(r'ed', '', tweet)\n",
    "    \n",
    "    # Remove hashtags from the tweet\n",
    "    tweet = re.sub(r'#\\w+', '', tweet)\n",
    "    \n",
    "    # Remove mentions from the tweet\n",
    "    tweet = re.sub(r'@\\w+', '', tweet)\n",
    "    \n",
    "    # Remove links/URLs from the tweet\n",
    "    tweet = re.sub(r'http\\S+', '', tweet)\n",
    "    \n",
    "    # remove repeated spaces, if any\n",
    "    tweet = re.sub(r'\\s+', ' ', tweet).strip()\n",
    "    \n",
    "    # Remove special characters and numbers from string.punctuation\n",
    "    tweet = re.sub('[^a-zA-Z]', ' ', tweet)\n",
    "    \n",
    "    # Remove single characters from the start\n",
    "    tweet = re.sub(r'\\^[a-zA-Z]\\s+', ' ', tweet)\n",
    "    \n",
    "    # Tokenize the tweet\n",
    "    tokens = word_tokenize(tweet)\n",
    "    \n",
    "    # Convert to lowercase\n",
    "    tokens = [word.lower() for word in tokens]\n",
    "    \n",
    "    # Remove stop words\n",
    "    stop_words = set(stopwords.words('english'))\n",
    "    tokens = [word for word in tokens if not word in stop_words]\n",
    "    \n",
    "    # Lemmatize the words\n",
    "    lemmatizer = WordNetLemmatizer()\n",
    "    tokens = [lemmatizer.lemmatize(word) for word in tokens]\n",
    "    \n",
    "    # Join the tokens back into a string\n",
    "    tweet = ' '.join(tokens)\n",
    "    \n",
    "    return tweet\n",
    "    "
   ]
  },
  {
   "cell_type": "code",
   "execution_count": 9,
   "metadata": {},
   "outputs": [],
   "source": [
    "df['Processed_tweet'] = df['Tweets'].apply(preprocess_tweet)\n",
    "#  drop preprocessed tweets with less than 3 words\n",
    "df = df[df['Processed_tweet'].apply(lambda x: len(x.split()) > 3)]\n",
    "#  drop preprocessed tweets null\n",
    "df = df[df['Processed_tweet'].notna()]\n",
    "# drop duplicates\n",
    "df = df.drop_duplicates(subset=['Processed_tweet'])\n",
    "\n",
    "save_path = './twt_emotion_analysis/data_cleaned.csv'\n",
    "df.to_csv(save_path, index=False)"
   ]
  }
 ],
 "metadata": {
  "kernelspec": {
   "display_name": ".venv",
   "language": "python",
   "name": "python3"
  },
  "language_info": {
   "codemirror_mode": {
    "name": "ipython",
    "version": 3
   },
   "file_extension": ".py",
   "mimetype": "text/x-python",
   "name": "python",
   "nbconvert_exporter": "python",
   "pygments_lexer": "ipython3",
   "version": "3.11.3"
  },
  "orig_nbformat": 4
 },
 "nbformat": 4,
 "nbformat_minor": 2
}
