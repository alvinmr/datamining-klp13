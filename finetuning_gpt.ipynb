{
 "cells": [
  {
   "cell_type": "code",
   "execution_count": 2,
   "metadata": {},
   "outputs": [],
   "source": [
    "import pandas as pd\n",
    "from tqdm.notebook import tqdm, trange\n",
    "import openai\n"
   ]
  },
  {
   "cell_type": "code",
   "execution_count": 9,
   "metadata": {},
   "outputs": [
    {
     "name": "stderr",
     "output_type": "stream",
     "text": [
      "/tmp/ipykernel_48837/1208090735.py:4: SettingWithCopyWarning: \n",
      "A value is trying to be set on a copy of a slice from a DataFrame\n",
      "\n",
      "See the caveats in the documentation: https://pandas.pydata.org/pandas-docs/stable/user_guide/indexing.html#returning-a-view-versus-a-copy\n",
      "  df_finetuned.rename(columns={'Processed_tweet': 'prompt', 'Feeling': 'completion'}, inplace=True)\n"
     ]
    }
   ],
   "source": [
    "df = pd.read_csv('./twt_emotion_analysis/data_cleaned.csv')\n",
    "# to jsonl format to fine-tune GPT-3\n",
    "df_finetuned = df[['Processed_tweet', 'Feeling']]\n",
    "df_finetuned.rename(columns={'Processed_tweet': 'prompt', 'Feeling': 'completion'}, inplace=True)\n",
    "df_finetuned\n",
    "df_finetuned.to_json('./twt_emotion_analysis/data_cleaned.jsonl', orient='records', lines=True)\n",
    "# ft-ls5GQ8wcKTtNZH7VMjeFHhHo"
   ]
  }
 ],
 "metadata": {
  "kernelspec": {
   "display_name": ".venv",
   "language": "python",
   "name": "python3"
  },
  "language_info": {
   "codemirror_mode": {
    "name": "ipython",
    "version": 3
   },
   "file_extension": ".py",
   "mimetype": "text/x-python",
   "name": "python",
   "nbconvert_exporter": "python",
   "pygments_lexer": "ipython3",
   "version": "3.11.3"
  },
  "orig_nbformat": 4
 },
 "nbformat": 4,
 "nbformat_minor": 2
}
